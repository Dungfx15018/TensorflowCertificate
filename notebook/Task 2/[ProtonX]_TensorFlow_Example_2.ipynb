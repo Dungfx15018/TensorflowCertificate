{
  "nbformat": 4,
  "nbformat_minor": 0,
  "metadata": {
    "colab": {
      "provenance": []
    },
    "kernelspec": {
      "name": "python3",
      "display_name": "Python 3"
    }
  },
  "cells": [
    {
      "cell_type": "markdown",
      "metadata": {
        "id": "1Q0tt_iI0PYO"
      },
      "source": [
        "# Đề thi mẫu chứng chỉ TensorFlow - Dạng bài 02\n",
        "\n",
        "```\n",
        "ProtonX - TensorFlow Class\n",
        "```\n",
        "Giới thiệu về chứng chỉ - https://www.tensorflow.org/certificate\n",
        "\n",
        "> Chú ý: đọc kỹ các nội dung trong Handle Notebook trong liên kết trên.\n",
        "\n",
        "---\n",
        "\n",
        "### Hướng dẫn làm bài\n",
        "\n",
        "Đọc kỹ File `Tensorflow Exam - Tips` trên hệ thống Google Classroom.\n",
        "\n",
        "*Một số yêu cầu:\n",
        "- Sử dụng TensorFlow 2.x trở lên.\n",
        "- Bài này chỉ cần sử dụng mạng Neural Network với vài lớp Dense, không dùng CNN (nếu dùng sẽ báo lỗi)\n",
        "- Chú ý đề có thể cho tf.dataset nên ôn kỹ phần load dataset (), nhớ chia ảnh đầu vào cho 255\n",
        "  + https://www.tensorflow.org/api_docs/python/tf/data/Dataset\n",
        "  + https://www.tensorflow.org/datasets/keras_example\n",
        "- Video về MNIST\n",
        "  + https://youtu.be/8WxENdR46qA\n",
        "\n",
        "- Chạy lại toàn bộ File này trước khi ấn nộp bài."
      ]
    },
    {
      "cell_type": "markdown",
      "metadata": {
        "id": "Aip0oolq0lvW"
      },
      "source": [
        "### Đề thi mẫu bài 02"
      ]
    },
    {
      "cell_type": "code",
      "metadata": {
        "id": "7zGptboWz-UI",
        "outputId": "e5f2eedf-ea4d-44dd-8d3e-d150d9218bc8",
        "colab": {
          "base_uri": "https://localhost:8080/"
        }
      },
      "source": [
        "# TensorFlow and tf.keras\n",
        "import tensorflow as tf\n",
        "\n",
        "# Helper libraries\n",
        "import numpy as np\n",
        "import matplotlib.pyplot as plt\n",
        "\n",
        "print(tf.__version__)"
      ],
      "execution_count": 1,
      "outputs": [
        {
          "output_type": "stream",
          "name": "stdout",
          "text": [
            "2.15.0\n"
          ]
        }
      ]
    },
    {
      "cell_type": "code",
      "metadata": {
        "id": "m0e7vIMt0paf"
      },
      "source": [
        "fashion_mnist = tf.keras.datasets.mnist\n",
        "\n",
        "(train_images, train_labels), (test_images, test_labels) = fashion_mnist.load_data()"
      ],
      "execution_count": 2,
      "outputs": []
    },
    {
      "cell_type": "code",
      "source": [
        "train_images = train_images / 255.\n",
        "test_images = test_images / 255.\n",
        "train_images.shape"
      ],
      "metadata": {
        "id": "6JtpUv687PQb",
        "outputId": "95041a3f-7fc4-4cc1-d383-c13e0a21e187",
        "colab": {
          "base_uri": "https://localhost:8080/"
        }
      },
      "execution_count": 3,
      "outputs": [
        {
          "output_type": "execute_result",
          "data": {
            "text/plain": [
              "(60000, 28, 28)"
            ]
          },
          "metadata": {},
          "execution_count": 3
        }
      ]
    },
    {
      "cell_type": "code",
      "source": [
        "model = tf.keras.models.Sequential([\n",
        "    tf.keras.layers.Flatten(input_shape = (28,28)),\n",
        "    tf.keras.layers.Dense(32, activation = 'relu'),\n",
        "    tf.keras.layers.Dense(64, activation = 'relu'),\n",
        "    tf.keras.layers.Dense(32, activation = 'relu'),\n",
        "    tf.keras.layers.Dense(10, activation = 'softmax' )\n",
        "])"
      ],
      "metadata": {
        "id": "ga99fu3y8I4s"
      },
      "execution_count": 4,
      "outputs": []
    },
    {
      "cell_type": "code",
      "source": [
        "model.compile(optimizer = 'sgd', loss = 'sparse_categorical_crossentropy', metrics = ['acc'])"
      ],
      "metadata": {
        "id": "-FML2Gds81tA"
      },
      "execution_count": 5,
      "outputs": []
    },
    {
      "cell_type": "code",
      "source": [
        "model.fit(train_images, train_labels, batch_size =32, epochs = 100, verbose = 1, validation_data=(test_images, test_labels))"
      ],
      "metadata": {
        "id": "j0Ty3-039QrH",
        "outputId": "0232193c-372e-43fc-aaef-372874edb2e3",
        "colab": {
          "base_uri": "https://localhost:8080/"
        }
      },
      "execution_count": 6,
      "outputs": [
        {
          "output_type": "stream",
          "name": "stdout",
          "text": [
            "Epoch 1/100\n",
            "1875/1875 [==============================] - 9s 4ms/step - loss: 0.8089 - acc: 0.7591 - val_loss: 0.3342 - val_acc: 0.9006\n",
            "Epoch 2/100\n",
            "1875/1875 [==============================] - 5s 3ms/step - loss: 0.3112 - acc: 0.9080 - val_loss: 0.2665 - val_acc: 0.9209\n",
            "Epoch 3/100\n",
            "1875/1875 [==============================] - 6s 3ms/step - loss: 0.2493 - acc: 0.9270 - val_loss: 0.2250 - val_acc: 0.9297\n",
            "Epoch 4/100\n",
            "1875/1875 [==============================] - 5s 3ms/step - loss: 0.2122 - acc: 0.9377 - val_loss: 0.1908 - val_acc: 0.9415\n",
            "Epoch 5/100\n",
            "1875/1875 [==============================] - 5s 3ms/step - loss: 0.1882 - acc: 0.9445 - val_loss: 0.1773 - val_acc: 0.9464\n",
            "Epoch 6/100\n",
            "1875/1875 [==============================] - 6s 3ms/step - loss: 0.1705 - acc: 0.9500 - val_loss: 0.1630 - val_acc: 0.9492\n",
            "Epoch 7/100\n",
            "1875/1875 [==============================] - 5s 3ms/step - loss: 0.1564 - acc: 0.9542 - val_loss: 0.1521 - val_acc: 0.9544\n",
            "Epoch 8/100\n",
            "1875/1875 [==============================] - 6s 3ms/step - loss: 0.1445 - acc: 0.9575 - val_loss: 0.1455 - val_acc: 0.9551\n",
            "Epoch 9/100\n",
            "1875/1875 [==============================] - 5s 3ms/step - loss: 0.1352 - acc: 0.9607 - val_loss: 0.1409 - val_acc: 0.9576\n",
            "Epoch 10/100\n",
            "1875/1875 [==============================] - 6s 3ms/step - loss: 0.1269 - acc: 0.9633 - val_loss: 0.1364 - val_acc: 0.9586\n",
            "Epoch 11/100\n",
            "1875/1875 [==============================] - 5s 3ms/step - loss: 0.1196 - acc: 0.9651 - val_loss: 0.1299 - val_acc: 0.9610\n",
            "Epoch 12/100\n",
            "1875/1875 [==============================] - 6s 3ms/step - loss: 0.1128 - acc: 0.9669 - val_loss: 0.1240 - val_acc: 0.9621\n",
            "Epoch 13/100\n",
            "1875/1875 [==============================] - 5s 3ms/step - loss: 0.1070 - acc: 0.9690 - val_loss: 0.1227 - val_acc: 0.9627\n",
            "Epoch 14/100\n",
            "1875/1875 [==============================] - 6s 3ms/step - loss: 0.1016 - acc: 0.9700 - val_loss: 0.1194 - val_acc: 0.9622\n",
            "Epoch 15/100\n",
            "1875/1875 [==============================] - 5s 3ms/step - loss: 0.0966 - acc: 0.9716 - val_loss: 0.1203 - val_acc: 0.9633\n",
            "Epoch 16/100\n",
            "1875/1875 [==============================] - 6s 3ms/step - loss: 0.0918 - acc: 0.9730 - val_loss: 0.1200 - val_acc: 0.9619\n",
            "Epoch 17/100\n",
            "1875/1875 [==============================] - 5s 3ms/step - loss: 0.0889 - acc: 0.9740 - val_loss: 0.1077 - val_acc: 0.9654\n",
            "Epoch 18/100\n",
            "1875/1875 [==============================] - 5s 3ms/step - loss: 0.0848 - acc: 0.9745 - val_loss: 0.1106 - val_acc: 0.9638\n",
            "Epoch 19/100\n",
            "1875/1875 [==============================] - 6s 3ms/step - loss: 0.0812 - acc: 0.9757 - val_loss: 0.1173 - val_acc: 0.9633\n",
            "Epoch 20/100\n",
            "1875/1875 [==============================] - 5s 3ms/step - loss: 0.0780 - acc: 0.9765 - val_loss: 0.1031 - val_acc: 0.9667\n",
            "Epoch 21/100\n",
            "1875/1875 [==============================] - 6s 3ms/step - loss: 0.0751 - acc: 0.9781 - val_loss: 0.1159 - val_acc: 0.9623\n",
            "Epoch 22/100\n",
            "1875/1875 [==============================] - 5s 3ms/step - loss: 0.0725 - acc: 0.9786 - val_loss: 0.1021 - val_acc: 0.9684\n",
            "Epoch 23/100\n",
            "1875/1875 [==============================] - 6s 3ms/step - loss: 0.0694 - acc: 0.9796 - val_loss: 0.1004 - val_acc: 0.9677\n",
            "Epoch 24/100\n",
            "1875/1875 [==============================] - 5s 3ms/step - loss: 0.0673 - acc: 0.9798 - val_loss: 0.1132 - val_acc: 0.9643\n",
            "Epoch 25/100\n",
            "1875/1875 [==============================] - 6s 3ms/step - loss: 0.0651 - acc: 0.9804 - val_loss: 0.0956 - val_acc: 0.9679\n",
            "Epoch 26/100\n",
            "1875/1875 [==============================] - 6s 3ms/step - loss: 0.0631 - acc: 0.9812 - val_loss: 0.1041 - val_acc: 0.9670\n",
            "Epoch 27/100\n",
            "1875/1875 [==============================] - 5s 3ms/step - loss: 0.0607 - acc: 0.9819 - val_loss: 0.0999 - val_acc: 0.9695\n",
            "Epoch 28/100\n",
            "1875/1875 [==============================] - 6s 3ms/step - loss: 0.0588 - acc: 0.9821 - val_loss: 0.1016 - val_acc: 0.9685\n",
            "Epoch 29/100\n",
            "1875/1875 [==============================] - 5s 3ms/step - loss: 0.0567 - acc: 0.9834 - val_loss: 0.1009 - val_acc: 0.9674\n",
            "Epoch 30/100\n",
            "1875/1875 [==============================] - 6s 3ms/step - loss: 0.0551 - acc: 0.9837 - val_loss: 0.1001 - val_acc: 0.9684\n",
            "Epoch 31/100\n",
            "1875/1875 [==============================] - 5s 3ms/step - loss: 0.0533 - acc: 0.9837 - val_loss: 0.1050 - val_acc: 0.9663\n",
            "Epoch 32/100\n",
            "1875/1875 [==============================] - 6s 3ms/step - loss: 0.0519 - acc: 0.9844 - val_loss: 0.1078 - val_acc: 0.9669\n",
            "Epoch 33/100\n",
            "1875/1875 [==============================] - 5s 3ms/step - loss: 0.0498 - acc: 0.9855 - val_loss: 0.0994 - val_acc: 0.9697\n",
            "Epoch 34/100\n",
            "1875/1875 [==============================] - 6s 3ms/step - loss: 0.0489 - acc: 0.9854 - val_loss: 0.0960 - val_acc: 0.9705\n",
            "Epoch 35/100\n",
            "1875/1875 [==============================] - 5s 3ms/step - loss: 0.0467 - acc: 0.9860 - val_loss: 0.0964 - val_acc: 0.9712\n",
            "Epoch 36/100\n",
            "1875/1875 [==============================] - 5s 3ms/step - loss: 0.0455 - acc: 0.9863 - val_loss: 0.1032 - val_acc: 0.9669\n",
            "Epoch 37/100\n",
            "1875/1875 [==============================] - 6s 3ms/step - loss: 0.0442 - acc: 0.9866 - val_loss: 0.1018 - val_acc: 0.9692\n",
            "Epoch 38/100\n",
            "1875/1875 [==============================] - 5s 3ms/step - loss: 0.0426 - acc: 0.9872 - val_loss: 0.1016 - val_acc: 0.9682\n",
            "Epoch 39/100\n",
            "1875/1875 [==============================] - 6s 3ms/step - loss: 0.0415 - acc: 0.9877 - val_loss: 0.0985 - val_acc: 0.9694\n",
            "Epoch 40/100\n",
            "1875/1875 [==============================] - 5s 3ms/step - loss: 0.0399 - acc: 0.9883 - val_loss: 0.1104 - val_acc: 0.9681\n",
            "Epoch 41/100\n",
            "1875/1875 [==============================] - 6s 3ms/step - loss: 0.0388 - acc: 0.9883 - val_loss: 0.0995 - val_acc: 0.9704\n",
            "Epoch 42/100\n",
            "1875/1875 [==============================] - 5s 3ms/step - loss: 0.0376 - acc: 0.9890 - val_loss: 0.1003 - val_acc: 0.9711\n",
            "Epoch 43/100\n",
            "1875/1875 [==============================] - 5s 3ms/step - loss: 0.0364 - acc: 0.9894 - val_loss: 0.1022 - val_acc: 0.9702\n",
            "Epoch 44/100\n",
            "1875/1875 [==============================] - 6s 3ms/step - loss: 0.0350 - acc: 0.9896 - val_loss: 0.1009 - val_acc: 0.9706\n",
            "Epoch 45/100\n",
            "1875/1875 [==============================] - 5s 3ms/step - loss: 0.0345 - acc: 0.9897 - val_loss: 0.1036 - val_acc: 0.9686\n",
            "Epoch 46/100\n",
            "1875/1875 [==============================] - 6s 3ms/step - loss: 0.0336 - acc: 0.9900 - val_loss: 0.1020 - val_acc: 0.9704\n",
            "Epoch 47/100\n",
            "1875/1875 [==============================] - 5s 3ms/step - loss: 0.0322 - acc: 0.9902 - val_loss: 0.1062 - val_acc: 0.9687\n",
            "Epoch 48/100\n",
            "1875/1875 [==============================] - 6s 3ms/step - loss: 0.0317 - acc: 0.9904 - val_loss: 0.1070 - val_acc: 0.9708\n",
            "Epoch 49/100\n",
            "1875/1875 [==============================] - 5s 3ms/step - loss: 0.0304 - acc: 0.9912 - val_loss: 0.1055 - val_acc: 0.9693\n",
            "Epoch 50/100\n",
            "1875/1875 [==============================] - 6s 3ms/step - loss: 0.0294 - acc: 0.9916 - val_loss: 0.1024 - val_acc: 0.9709\n",
            "Epoch 51/100\n",
            "1875/1875 [==============================] - 5s 3ms/step - loss: 0.0285 - acc: 0.9916 - val_loss: 0.1036 - val_acc: 0.9713\n",
            "Epoch 52/100\n",
            "1875/1875 [==============================] - 5s 3ms/step - loss: 0.0275 - acc: 0.9921 - val_loss: 0.1075 - val_acc: 0.9707\n",
            "Epoch 53/100\n",
            "1875/1875 [==============================] - 6s 3ms/step - loss: 0.0270 - acc: 0.9921 - val_loss: 0.1082 - val_acc: 0.9705\n",
            "Epoch 54/100\n",
            "1875/1875 [==============================] - 5s 3ms/step - loss: 0.0254 - acc: 0.9928 - val_loss: 0.1113 - val_acc: 0.9698\n",
            "Epoch 55/100\n",
            "1875/1875 [==============================] - 6s 3ms/step - loss: 0.0251 - acc: 0.9927 - val_loss: 0.1082 - val_acc: 0.9696\n",
            "Epoch 56/100\n",
            "1875/1875 [==============================] - 5s 3ms/step - loss: 0.0242 - acc: 0.9933 - val_loss: 0.1118 - val_acc: 0.9712\n",
            "Epoch 57/100\n",
            "1875/1875 [==============================] - 6s 3ms/step - loss: 0.0235 - acc: 0.9933 - val_loss: 0.1118 - val_acc: 0.9707\n",
            "Epoch 58/100\n",
            "1875/1875 [==============================] - 5s 3ms/step - loss: 0.0228 - acc: 0.9938 - val_loss: 0.1163 - val_acc: 0.9707\n",
            "Epoch 59/100\n",
            "1875/1875 [==============================] - 6s 3ms/step - loss: 0.0218 - acc: 0.9941 - val_loss: 0.1097 - val_acc: 0.9716\n",
            "Epoch 60/100\n",
            "1875/1875 [==============================] - 5s 3ms/step - loss: 0.0211 - acc: 0.9942 - val_loss: 0.1141 - val_acc: 0.9705\n",
            "Epoch 61/100\n",
            "1875/1875 [==============================] - 5s 3ms/step - loss: 0.0200 - acc: 0.9948 - val_loss: 0.1137 - val_acc: 0.9711\n",
            "Epoch 62/100\n",
            "1875/1875 [==============================] - 6s 3ms/step - loss: 0.0198 - acc: 0.9949 - val_loss: 0.1169 - val_acc: 0.9704\n",
            "Epoch 63/100\n",
            "1875/1875 [==============================] - 5s 3ms/step - loss: 0.0194 - acc: 0.9947 - val_loss: 0.1157 - val_acc: 0.9715\n",
            "Epoch 64/100\n",
            "1875/1875 [==============================] - 6s 3ms/step - loss: 0.0188 - acc: 0.9952 - val_loss: 0.1148 - val_acc: 0.9716\n",
            "Epoch 65/100\n",
            "1875/1875 [==============================] - 5s 3ms/step - loss: 0.0173 - acc: 0.9955 - val_loss: 0.1191 - val_acc: 0.9706\n",
            "Epoch 66/100\n",
            "1875/1875 [==============================] - 6s 3ms/step - loss: 0.0173 - acc: 0.9956 - val_loss: 0.1195 - val_acc: 0.9720\n",
            "Epoch 67/100\n",
            "1875/1875 [==============================] - 5s 3ms/step - loss: 0.0165 - acc: 0.9957 - val_loss: 0.1225 - val_acc: 0.9708\n",
            "Epoch 68/100\n",
            "1875/1875 [==============================] - 6s 3ms/step - loss: 0.0158 - acc: 0.9962 - val_loss: 0.1273 - val_acc: 0.9703\n",
            "Epoch 69/100\n",
            "1875/1875 [==============================] - 5s 3ms/step - loss: 0.0152 - acc: 0.9962 - val_loss: 0.1223 - val_acc: 0.9717\n",
            "Epoch 70/100\n",
            "1875/1875 [==============================] - 5s 3ms/step - loss: 0.0153 - acc: 0.9962 - val_loss: 0.1293 - val_acc: 0.9700\n",
            "Epoch 71/100\n",
            "1875/1875 [==============================] - 6s 3ms/step - loss: 0.0147 - acc: 0.9964 - val_loss: 0.1274 - val_acc: 0.9697\n",
            "Epoch 72/100\n",
            "1875/1875 [==============================] - 5s 3ms/step - loss: 0.0134 - acc: 0.9974 - val_loss: 0.1241 - val_acc: 0.9699\n",
            "Epoch 73/100\n",
            "1875/1875 [==============================] - 6s 3ms/step - loss: 0.0134 - acc: 0.9970 - val_loss: 0.1264 - val_acc: 0.9706\n",
            "Epoch 74/100\n",
            "1875/1875 [==============================] - 5s 3ms/step - loss: 0.0125 - acc: 0.9973 - val_loss: 0.1265 - val_acc: 0.9703\n",
            "Epoch 75/100\n",
            "1875/1875 [==============================] - 7s 3ms/step - loss: 0.0125 - acc: 0.9973 - val_loss: 0.1286 - val_acc: 0.9690\n",
            "Epoch 76/100\n",
            "1875/1875 [==============================] - 5s 3ms/step - loss: 0.0117 - acc: 0.9974 - val_loss: 0.1531 - val_acc: 0.9662\n",
            "Epoch 77/100\n",
            "1875/1875 [==============================] - 6s 3ms/step - loss: 0.0122 - acc: 0.9972 - val_loss: 0.1392 - val_acc: 0.9691\n",
            "Epoch 78/100\n",
            "1875/1875 [==============================] - 5s 3ms/step - loss: 0.0116 - acc: 0.9974 - val_loss: 0.1328 - val_acc: 0.9698\n",
            "Epoch 79/100\n",
            "1875/1875 [==============================] - 5s 3ms/step - loss: 0.0109 - acc: 0.9977 - val_loss: 0.1330 - val_acc: 0.9710\n",
            "Epoch 80/100\n",
            "1875/1875 [==============================] - 6s 3ms/step - loss: 0.0107 - acc: 0.9978 - val_loss: 0.1330 - val_acc: 0.9698\n",
            "Epoch 81/100\n",
            "1875/1875 [==============================] - 5s 3ms/step - loss: 0.0101 - acc: 0.9979 - val_loss: 0.1329 - val_acc: 0.9707\n",
            "Epoch 82/100\n",
            "1875/1875 [==============================] - 6s 3ms/step - loss: 0.0092 - acc: 0.9982 - val_loss: 0.1342 - val_acc: 0.9701\n",
            "Epoch 83/100\n",
            "1875/1875 [==============================] - 5s 3ms/step - loss: 0.0093 - acc: 0.9981 - val_loss: 0.1380 - val_acc: 0.9705\n",
            "Epoch 84/100\n",
            "1875/1875 [==============================] - 6s 3ms/step - loss: 0.0084 - acc: 0.9986 - val_loss: 0.1327 - val_acc: 0.9706\n",
            "Epoch 85/100\n",
            "1875/1875 [==============================] - 5s 3ms/step - loss: 0.0076 - acc: 0.9987 - val_loss: 0.1350 - val_acc: 0.9706\n",
            "Epoch 86/100\n",
            "1875/1875 [==============================] - 6s 3ms/step - loss: 0.0079 - acc: 0.9986 - val_loss: 0.1383 - val_acc: 0.9713\n",
            "Epoch 87/100\n",
            "1875/1875 [==============================] - 5s 3ms/step - loss: 0.0074 - acc: 0.9987 - val_loss: 0.1413 - val_acc: 0.9705\n",
            "Epoch 88/100\n",
            "1875/1875 [==============================] - 5s 3ms/step - loss: 0.0073 - acc: 0.9987 - val_loss: 0.1442 - val_acc: 0.9688\n",
            "Epoch 89/100\n",
            "1875/1875 [==============================] - 6s 3ms/step - loss: 0.0063 - acc: 0.9992 - val_loss: 0.1446 - val_acc: 0.9690\n",
            "Epoch 90/100\n",
            "1875/1875 [==============================] - 5s 3ms/step - loss: 0.0064 - acc: 0.9990 - val_loss: 0.1429 - val_acc: 0.9698\n",
            "Epoch 91/100\n",
            "1875/1875 [==============================] - 6s 3ms/step - loss: 0.0062 - acc: 0.9990 - val_loss: 0.1448 - val_acc: 0.9697\n",
            "Epoch 92/100\n",
            "1875/1875 [==============================] - 5s 3ms/step - loss: 0.0054 - acc: 0.9993 - val_loss: 0.1453 - val_acc: 0.9705\n",
            "Epoch 93/100\n",
            "1875/1875 [==============================] - 6s 3ms/step - loss: 0.0057 - acc: 0.9991 - val_loss: 0.1410 - val_acc: 0.9701\n",
            "Epoch 94/100\n",
            "1875/1875 [==============================] - 5s 3ms/step - loss: 0.0054 - acc: 0.9994 - val_loss: 0.1482 - val_acc: 0.9697\n",
            "Epoch 95/100\n",
            "1875/1875 [==============================] - 6s 3ms/step - loss: 0.0048 - acc: 0.9995 - val_loss: 0.1474 - val_acc: 0.9704\n",
            "Epoch 96/100\n",
            "1875/1875 [==============================] - 5s 3ms/step - loss: 0.0047 - acc: 0.9994 - val_loss: 0.1483 - val_acc: 0.9695\n",
            "Epoch 97/100\n",
            "1875/1875 [==============================] - 5s 3ms/step - loss: 0.0046 - acc: 0.9995 - val_loss: 0.1498 - val_acc: 0.9690\n",
            "Epoch 98/100\n",
            "1875/1875 [==============================] - 6s 3ms/step - loss: 0.0049 - acc: 0.9994 - val_loss: 0.1509 - val_acc: 0.9707\n",
            "Epoch 99/100\n",
            "1875/1875 [==============================] - 5s 3ms/step - loss: 0.0044 - acc: 0.9995 - val_loss: 0.1520 - val_acc: 0.9688\n",
            "Epoch 100/100\n",
            "1875/1875 [==============================] - 6s 3ms/step - loss: 0.0041 - acc: 0.9995 - val_loss: 0.1543 - val_acc: 0.9695\n"
          ]
        },
        {
          "output_type": "execute_result",
          "data": {
            "text/plain": [
              "<keras.src.callbacks.History at 0x7fb94ce678b0>"
            ]
          },
          "metadata": {},
          "execution_count": 6
        }
      ]
    },
    {
      "cell_type": "code",
      "metadata": {
        "id": "DbqnLrMZ05TJ",
        "outputId": "d24fcf84-8e3f-4917-a059-c78bb421d3cf",
        "colab": {
          "base_uri": "https://localhost:8080/"
        }
      },
      "source": [
        "# Lưu Model và nộp\n",
        "model.save(\"mymodel.h5\")"
      ],
      "execution_count": 7,
      "outputs": [
        {
          "output_type": "stream",
          "name": "stderr",
          "text": [
            "/usr/local/lib/python3.10/dist-packages/keras/src/engine/training.py:3103: UserWarning: You are saving your model as an HDF5 file via `model.save()`. This file format is considered legacy. We recommend using instead the native Keras format, e.g. `model.save('my_model.keras')`.\n",
            "  saving_api.save_model(\n"
          ]
        }
      ]
    }
  ]
}